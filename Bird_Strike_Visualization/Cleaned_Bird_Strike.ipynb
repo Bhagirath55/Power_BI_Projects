{
 "cells": [
  {
   "cell_type": "code",
   "execution_count": 3,
   "id": "b2b2e6f2",
   "metadata": {},
   "outputs": [
    {
     "data": {
      "text/html": [
       "<div>\n",
       "<style scoped>\n",
       "    .dataframe tbody tr th:only-of-type {\n",
       "        vertical-align: middle;\n",
       "    }\n",
       "\n",
       "    .dataframe tbody tr th {\n",
       "        vertical-align: top;\n",
       "    }\n",
       "\n",
       "    .dataframe thead th {\n",
       "        text-align: right;\n",
       "    }\n",
       "</style>\n",
       "<table border=\"1\" class=\"dataframe\">\n",
       "  <thead>\n",
       "    <tr style=\"text-align: right;\">\n",
       "      <th></th>\n",
       "      <th>Record ID</th>\n",
       "      <th>Aircraft: Type</th>\n",
       "      <th>Airport: Name</th>\n",
       "      <th>Altitude bin</th>\n",
       "      <th>Aircraft: Make/Model</th>\n",
       "      <th>Wildlife: Number struck</th>\n",
       "      <th>Wildlife: Number Struck Actual</th>\n",
       "      <th>Effect: Impact to flight</th>\n",
       "      <th>FlightDate</th>\n",
       "      <th>Effect: Indicated Damage</th>\n",
       "      <th>...</th>\n",
       "      <th>Remains of wildlife sent to Smithsonian</th>\n",
       "      <th>Remarks</th>\n",
       "      <th>Wildlife: Size</th>\n",
       "      <th>Conditions: Sky</th>\n",
       "      <th>Wildlife: Species</th>\n",
       "      <th>Pilot warned of birds or wildlife?</th>\n",
       "      <th>Cost: Total $</th>\n",
       "      <th>Feet above ground</th>\n",
       "      <th>Number of people injured</th>\n",
       "      <th>Is Aircraft Large?</th>\n",
       "    </tr>\n",
       "  </thead>\n",
       "  <tbody>\n",
       "    <tr>\n",
       "      <th>0</th>\n",
       "      <td>202152</td>\n",
       "      <td>Airplane</td>\n",
       "      <td>LAGUARDIA NY</td>\n",
       "      <td>&gt; 1000 ft</td>\n",
       "      <td>B-737-400</td>\n",
       "      <td>Over 100</td>\n",
       "      <td>859</td>\n",
       "      <td>Engine Shut Down</td>\n",
       "      <td>11/23/00 0:00</td>\n",
       "      <td>Caused damage</td>\n",
       "      <td>...</td>\n",
       "      <td>False</td>\n",
       "      <td>FLT 753. PILOT REPTD A HUNDRED BIRDS ON UNKN T...</td>\n",
       "      <td>Medium</td>\n",
       "      <td>No Cloud</td>\n",
       "      <td>Unknown bird - medium</td>\n",
       "      <td>N</td>\n",
       "      <td>30,736</td>\n",
       "      <td>1,500</td>\n",
       "      <td>0</td>\n",
       "      <td>Yes</td>\n",
       "    </tr>\n",
       "    <tr>\n",
       "      <th>1</th>\n",
       "      <td>208159</td>\n",
       "      <td>Airplane</td>\n",
       "      <td>DALLAS/FORT WORTH INTL ARPT</td>\n",
       "      <td>&lt; 1000 ft</td>\n",
       "      <td>MD-80</td>\n",
       "      <td>Over 100</td>\n",
       "      <td>424</td>\n",
       "      <td>NaN</td>\n",
       "      <td>7/25/01 0:00</td>\n",
       "      <td>Caused damage</td>\n",
       "      <td>...</td>\n",
       "      <td>False</td>\n",
       "      <td>102 CARCASSES FOUND. 1 LDG LIGHT ON NOSE GEAR ...</td>\n",
       "      <td>Small</td>\n",
       "      <td>Some Cloud</td>\n",
       "      <td>Rock pigeon</td>\n",
       "      <td>Y</td>\n",
       "      <td>0</td>\n",
       "      <td>0</td>\n",
       "      <td>0</td>\n",
       "      <td>No</td>\n",
       "    </tr>\n",
       "    <tr>\n",
       "      <th>2</th>\n",
       "      <td>207601</td>\n",
       "      <td>Airplane</td>\n",
       "      <td>LAKEFRONT AIRPORT</td>\n",
       "      <td>&lt; 1000 ft</td>\n",
       "      <td>C-500</td>\n",
       "      <td>Over 100</td>\n",
       "      <td>261</td>\n",
       "      <td>NaN</td>\n",
       "      <td>9/14/01 0:00</td>\n",
       "      <td>No damage</td>\n",
       "      <td>...</td>\n",
       "      <td>False</td>\n",
       "      <td>FLEW UNDER A VERY LARGE FLOCK OF BIRDS OVER AP...</td>\n",
       "      <td>Small</td>\n",
       "      <td>No Cloud</td>\n",
       "      <td>European starling</td>\n",
       "      <td>N</td>\n",
       "      <td>0</td>\n",
       "      <td>50</td>\n",
       "      <td>0</td>\n",
       "      <td>No</td>\n",
       "    </tr>\n",
       "    <tr>\n",
       "      <th>3</th>\n",
       "      <td>215953</td>\n",
       "      <td>Airplane</td>\n",
       "      <td>SEATTLE-TACOMA INTL</td>\n",
       "      <td>&lt; 1000 ft</td>\n",
       "      <td>B-737-400</td>\n",
       "      <td>Over 100</td>\n",
       "      <td>806</td>\n",
       "      <td>Precautionary Landing</td>\n",
       "      <td>9/5/02 0:00</td>\n",
       "      <td>No damage</td>\n",
       "      <td>...</td>\n",
       "      <td>False</td>\n",
       "      <td>NOTAM WARNING. 26 BIRDS HIT THE A/C, FORCING A...</td>\n",
       "      <td>Small</td>\n",
       "      <td>Some Cloud</td>\n",
       "      <td>European starling</td>\n",
       "      <td>Y</td>\n",
       "      <td>0</td>\n",
       "      <td>50</td>\n",
       "      <td>0</td>\n",
       "      <td>Yes</td>\n",
       "    </tr>\n",
       "    <tr>\n",
       "      <th>4</th>\n",
       "      <td>219878</td>\n",
       "      <td>Airplane</td>\n",
       "      <td>NORFOLK INTL</td>\n",
       "      <td>&lt; 1000 ft</td>\n",
       "      <td>CL-RJ100/200</td>\n",
       "      <td>Over 100</td>\n",
       "      <td>942</td>\n",
       "      <td>NaN</td>\n",
       "      <td>6/23/03 0:00</td>\n",
       "      <td>No damage</td>\n",
       "      <td>...</td>\n",
       "      <td>False</td>\n",
       "      <td>NO DMG REPTD.</td>\n",
       "      <td>Small</td>\n",
       "      <td>No Cloud</td>\n",
       "      <td>European starling</td>\n",
       "      <td>N</td>\n",
       "      <td>0</td>\n",
       "      <td>50</td>\n",
       "      <td>0</td>\n",
       "      <td>No</td>\n",
       "    </tr>\n",
       "  </tbody>\n",
       "</table>\n",
       "<p>5 rows × 26 columns</p>\n",
       "</div>"
      ],
      "text/plain": [
       "   Record ID Aircraft: Type                Airport: Name Altitude bin  \\\n",
       "0     202152       Airplane                 LAGUARDIA NY    > 1000 ft   \n",
       "1     208159       Airplane  DALLAS/FORT WORTH INTL ARPT    < 1000 ft   \n",
       "2     207601       Airplane            LAKEFRONT AIRPORT    < 1000 ft   \n",
       "3     215953       Airplane          SEATTLE-TACOMA INTL    < 1000 ft   \n",
       "4     219878       Airplane                 NORFOLK INTL    < 1000 ft   \n",
       "\n",
       "  Aircraft: Make/Model Wildlife: Number struck  \\\n",
       "0            B-737-400                Over 100   \n",
       "1                MD-80                Over 100   \n",
       "2                C-500                Over 100   \n",
       "3            B-737-400                Over 100   \n",
       "4         CL-RJ100/200                Over 100   \n",
       "\n",
       "   Wildlife: Number Struck Actual Effect: Impact to flight     FlightDate  \\\n",
       "0                             859         Engine Shut Down  11/23/00 0:00   \n",
       "1                             424                      NaN   7/25/01 0:00   \n",
       "2                             261                      NaN   9/14/01 0:00   \n",
       "3                             806    Precautionary Landing    9/5/02 0:00   \n",
       "4                             942                      NaN   6/23/03 0:00   \n",
       "\n",
       "  Effect: Indicated Damage  ... Remains of wildlife sent to Smithsonian  \\\n",
       "0            Caused damage  ...                                   False   \n",
       "1            Caused damage  ...                                   False   \n",
       "2                No damage  ...                                   False   \n",
       "3                No damage  ...                                   False   \n",
       "4                No damage  ...                                   False   \n",
       "\n",
       "                                             Remarks Wildlife: Size  \\\n",
       "0  FLT 753. PILOT REPTD A HUNDRED BIRDS ON UNKN T...         Medium   \n",
       "1  102 CARCASSES FOUND. 1 LDG LIGHT ON NOSE GEAR ...          Small   \n",
       "2  FLEW UNDER A VERY LARGE FLOCK OF BIRDS OVER AP...          Small   \n",
       "3  NOTAM WARNING. 26 BIRDS HIT THE A/C, FORCING A...          Small   \n",
       "4                                      NO DMG REPTD.          Small   \n",
       "\n",
       "  Conditions: Sky      Wildlife: Species  Pilot warned of birds or wildlife?  \\\n",
       "0        No Cloud  Unknown bird - medium                                   N   \n",
       "1      Some Cloud            Rock pigeon                                   Y   \n",
       "2        No Cloud      European starling                                   N   \n",
       "3      Some Cloud      European starling                                   Y   \n",
       "4        No Cloud      European starling                                   N   \n",
       "\n",
       "   Cost: Total $ Feet above ground Number of people injured Is Aircraft Large?  \n",
       "0         30,736             1,500                        0                Yes  \n",
       "1              0                 0                        0                 No  \n",
       "2              0                50                        0                 No  \n",
       "3              0                50                        0                Yes  \n",
       "4              0                50                        0                 No  \n",
       "\n",
       "[5 rows x 26 columns]"
      ]
     },
     "execution_count": 3,
     "metadata": {},
     "output_type": "execute_result"
    }
   ],
   "source": [
    "import pandas as pd\n",
    "df = pd.read_csv(\"C:/Users/bhagi/Unified_Mentor/Bird_Strike_Visualization/Bird Strikes data.xlsx - Bird Strikes.csv\")\n",
    "df.head()"
   ]
  },
  {
   "cell_type": "code",
   "execution_count": 5,
   "id": "148bd656",
   "metadata": {},
   "outputs": [
    {
     "data": {
      "text/plain": [
       "Record ID                                      0\n",
       "Aircraft: Type                               129\n",
       "Airport: Name                                129\n",
       "Altitude bin                                 129\n",
       "Aircraft: Make/Model                           0\n",
       "Wildlife: Number struck                      129\n",
       "Wildlife: Number Struck Actual                 0\n",
       "Effect: Impact to flight                   23480\n",
       "FlightDate                                   129\n",
       "Effect: Indicated Damage                       0\n",
       "Aircraft: Number of engines?                 267\n",
       "Aircraft: Airline/Operator                   129\n",
       "Origin State                                 449\n",
       "When: Phase of flight                        129\n",
       "Conditions: Precipitation                  23543\n",
       "Remains of wildlife collected?                 0\n",
       "Remains of wildlife sent to Smithsonian        0\n",
       "Remarks                                     4771\n",
       "Wildlife: Size                               129\n",
       "Conditions: Sky                                0\n",
       "Wildlife: Species                              0\n",
       "Pilot warned of birds or wildlife?           129\n",
       "Cost: Total $                                  0\n",
       "Feet above ground                            129\n",
       "Number of people injured                       0\n",
       "Is Aircraft Large?                           129\n",
       "dtype: int64"
      ]
     },
     "execution_count": 5,
     "metadata": {},
     "output_type": "execute_result"
    }
   ],
   "source": [
    "df.isnull().sum()"
   ]
  },
  {
   "cell_type": "code",
   "execution_count": 8,
   "id": "7d676392",
   "metadata": {},
   "outputs": [
    {
     "data": {
      "text/plain": [
       "Record ID                                      0\n",
       "Aircraft: Type                                 0\n",
       "Airport: Name                                129\n",
       "Altitude bin                                 129\n",
       "Aircraft: Make/Model                           0\n",
       "Wildlife: Number struck                      129\n",
       "Wildlife: Number Struck Actual                 0\n",
       "Effect: Impact to flight                   23480\n",
       "FlightDate                                   129\n",
       "Effect: Indicated Damage                       0\n",
       "Aircraft: Number of engines?                 267\n",
       "Aircraft: Airline/Operator                   129\n",
       "Origin State                                 449\n",
       "When: Phase of flight                        129\n",
       "Conditions: Precipitation                  23543\n",
       "Remains of wildlife collected?                 0\n",
       "Remains of wildlife sent to Smithsonian        0\n",
       "Remarks                                     4771\n",
       "Wildlife: Size                               129\n",
       "Conditions: Sky                                0\n",
       "Wildlife: Species                              0\n",
       "Pilot warned of birds or wildlife?           129\n",
       "Cost: Total $                                  0\n",
       "Feet above ground                            129\n",
       "Number of people injured                       0\n",
       "Is Aircraft Large?                           129\n",
       "dtype: int64"
      ]
     },
     "execution_count": 8,
     "metadata": {},
     "output_type": "execute_result"
    }
   ],
   "source": [
    "#replacing NULL values with Airplane\n",
    "df['Aircraft: Type'] = df['Aircraft: Type'].fillna('Airplane')\n",
    "df.isnull().sum()"
   ]
  },
  {
   "cell_type": "code",
   "execution_count": 14,
   "id": "7eeb14a8",
   "metadata": {},
   "outputs": [
    {
     "data": {
      "text/plain": [
       "Record ID                                      0\n",
       "Aircraft: Type                                 0\n",
       "Airport: Name                                  0\n",
       "Altitude bin                                   0\n",
       "Aircraft: Make/Model                           0\n",
       "Wildlife: Number struck                        0\n",
       "Wildlife: Number Struck Actual                 0\n",
       "Effect: Impact to flight                   23351\n",
       "FlightDate                                     0\n",
       "Effect: Indicated Damage                       0\n",
       "Aircraft: Number of engines?                 234\n",
       "Aircraft: Airline/Operator                     0\n",
       "Origin State                                 449\n",
       "When: Phase of flight                          0\n",
       "Conditions: Precipitation                  23414\n",
       "Remains of wildlife collected?                 0\n",
       "Remains of wildlife sent to Smithsonian        0\n",
       "Remarks                                     4761\n",
       "Wildlife: Size                                 0\n",
       "Conditions: Sky                                0\n",
       "Wildlife: Species                              0\n",
       "Pilot warned of birds or wildlife?             0\n",
       "Cost: Total $                                  0\n",
       "Feet above ground                              0\n",
       "Number of people injured                       0\n",
       "Is Aircraft Large?                             0\n",
       "dtype: int64"
      ]
     },
     "execution_count": 14,
     "metadata": {},
     "output_type": "execute_result"
    }
   ],
   "source": [
    "#removing missing values from airport_name\n",
    "df = df.dropna(subset=['Airport: Name'])\n",
    "df.isnull().sum()"
   ]
  },
  {
   "cell_type": "code",
   "execution_count": 16,
   "id": "11a99d46",
   "metadata": {},
   "outputs": [
    {
     "data": {
      "text/plain": [
       "Record ID                                     0\n",
       "Aircraft: Type                                0\n",
       "Airport: Name                                 0\n",
       "Altitude bin                                  0\n",
       "Aircraft: Make/Model                          0\n",
       "Wildlife: Number struck                       0\n",
       "Wildlife: Number Struck Actual                0\n",
       "Effect: Impact to flight                      0\n",
       "FlightDate                                    0\n",
       "Effect: Indicated Damage                      0\n",
       "Aircraft: Number of engines?                 62\n",
       "Aircraft: Airline/Operator                    0\n",
       "Origin State                                 21\n",
       "When: Phase of flight                         0\n",
       "Conditions: Precipitation                  1887\n",
       "Remains of wildlife collected?                0\n",
       "Remains of wildlife sent to Smithsonian       0\n",
       "Remarks                                     177\n",
       "Wildlife: Size                                0\n",
       "Conditions: Sky                               0\n",
       "Wildlife: Species                             0\n",
       "Pilot warned of birds or wildlife?            0\n",
       "Cost: Total $                                 0\n",
       "Feet above ground                             0\n",
       "Number of people injured                      0\n",
       "Is Aircraft Large?                            0\n",
       "dtype: int64"
      ]
     },
     "execution_count": 16,
     "metadata": {},
     "output_type": "execute_result"
    }
   ],
   "source": [
    "#removing 'None' values from Effect: Impact to flight\n",
    "df = df.dropna(subset=['Effect: Impact to flight'])\n",
    "df.isnull().sum()"
   ]
  },
  {
   "cell_type": "code",
   "execution_count": 17,
   "id": "a0461074",
   "metadata": {},
   "outputs": [
    {
     "data": {
      "text/plain": [
       "Record ID                                     0\n",
       "Aircraft: Type                                0\n",
       "Airport: Name                                 0\n",
       "Altitude bin                                  0\n",
       "Aircraft: Make/Model                          0\n",
       "Wildlife: Number struck                       0\n",
       "Wildlife: Number Struck Actual                0\n",
       "Effect: Impact to flight                      0\n",
       "FlightDate                                    0\n",
       "Effect: Indicated Damage                      0\n",
       "Aircraft: Number of engines?                  0\n",
       "Aircraft: Airline/Operator                    0\n",
       "Origin State                                 21\n",
       "When: Phase of flight                         0\n",
       "Conditions: Precipitation                  1829\n",
       "Remains of wildlife collected?                0\n",
       "Remains of wildlife sent to Smithsonian       0\n",
       "Remarks                                     147\n",
       "Wildlife: Size                                0\n",
       "Conditions: Sky                               0\n",
       "Wildlife: Species                             0\n",
       "Pilot warned of birds or wildlife?            0\n",
       "Cost: Total $                                 0\n",
       "Feet above ground                             0\n",
       "Number of people injured                      0\n",
       "Is Aircraft Large?                            0\n",
       "dtype: int64"
      ]
     },
     "execution_count": 17,
     "metadata": {},
     "output_type": "execute_result"
    }
   ],
   "source": [
    "#removing missing values from Aircraft: Number Of engines?\n",
    "df = df.dropna(subset=['Aircraft: Number of engines?'])\n",
    "df.isnull().sum()"
   ]
  },
  {
   "cell_type": "code",
   "execution_count": 18,
   "id": "5c56a6c4",
   "metadata": {},
   "outputs": [
    {
     "data": {
      "text/plain": [
       "Record ID                                     0\n",
       "Aircraft: Type                                0\n",
       "Airport: Name                                 0\n",
       "Altitude bin                                  0\n",
       "Aircraft: Make/Model                          0\n",
       "Wildlife: Number struck                       0\n",
       "Wildlife: Number Struck Actual                0\n",
       "Effect: Impact to flight                      0\n",
       "FlightDate                                    0\n",
       "Effect: Indicated Damage                      0\n",
       "Aircraft: Number of engines?                  0\n",
       "Aircraft: Airline/Operator                    0\n",
       "Origin State                                  0\n",
       "When: Phase of flight                         0\n",
       "Conditions: Precipitation                  1829\n",
       "Remains of wildlife collected?                0\n",
       "Remains of wildlife sent to Smithsonian       0\n",
       "Remarks                                     147\n",
       "Wildlife: Size                                0\n",
       "Conditions: Sky                               0\n",
       "Wildlife: Species                             0\n",
       "Pilot warned of birds or wildlife?            0\n",
       "Cost: Total $                                 0\n",
       "Feet above ground                             0\n",
       "Number of people injured                      0\n",
       "Is Aircraft Large?                            0\n",
       "dtype: int64"
      ]
     },
     "execution_count": 18,
     "metadata": {},
     "output_type": "execute_result"
    }
   ],
   "source": [
    "# Fill missing values in Origin State with the most frequent value\n",
    "most_frequent_value = df['Origin State'].mode()[0]\n",
    "df['Origin State'] = df['Origin State'].fillna(most_frequent_value)\n",
    "df.isnull().sum()"
   ]
  },
  {
   "cell_type": "code",
   "execution_count": 19,
   "id": "a11a4d96",
   "metadata": {},
   "outputs": [
    {
     "data": {
      "text/plain": [
       "Record ID                                  0\n",
       "Aircraft: Type                             0\n",
       "Airport: Name                              0\n",
       "Altitude bin                               0\n",
       "Aircraft: Make/Model                       0\n",
       "Wildlife: Number struck                    0\n",
       "Wildlife: Number Struck Actual             0\n",
       "Effect: Impact to flight                   0\n",
       "FlightDate                                 0\n",
       "Effect: Indicated Damage                   0\n",
       "Aircraft: Number of engines?               0\n",
       "Aircraft: Airline/Operator                 0\n",
       "Origin State                               0\n",
       "When: Phase of flight                      0\n",
       "Conditions: Precipitation                  0\n",
       "Remains of wildlife collected?             0\n",
       "Remains of wildlife sent to Smithsonian    0\n",
       "Remarks                                    7\n",
       "Wildlife: Size                             0\n",
       "Conditions: Sky                            0\n",
       "Wildlife: Species                          0\n",
       "Pilot warned of birds or wildlife?         0\n",
       "Cost: Total $                              0\n",
       "Feet above ground                          0\n",
       "Number of people injured                   0\n",
       "Is Aircraft Large?                         0\n",
       "dtype: int64"
      ]
     },
     "execution_count": 19,
     "metadata": {},
     "output_type": "execute_result"
    }
   ],
   "source": [
    "#removing missing values from Conditions: Precipitation\n",
    "df = df.dropna(subset=['Conditions: Precipitation'])\n",
    "df.isnull().sum()"
   ]
  },
  {
   "cell_type": "code",
   "execution_count": 31,
   "id": "4f42bf9a",
   "metadata": {},
   "outputs": [
    {
     "data": {
      "text/plain": [
       "Record ID                                  0\n",
       "Aircraft: Type                             0\n",
       "Airport: Name                              0\n",
       "Altitude bin                               0\n",
       "Aircraft: Make/Model                       0\n",
       "Wildlife: Number struck                    0\n",
       "Wildlife: Number Struck Actual             0\n",
       "Effect: Impact to flight                   0\n",
       "FlightDate                                 0\n",
       "Effect: Indicated Damage                   0\n",
       "Aircraft: Number of engines?               0\n",
       "Aircraft: Airline/Operator                 0\n",
       "Origin State                               0\n",
       "When: Phase of flight                      0\n",
       "Conditions: Precipitation                  0\n",
       "Remains of wildlife collected?             0\n",
       "Remains of wildlife sent to Smithsonian    0\n",
       "Remarks                                    0\n",
       "Wildlife: Size                             0\n",
       "Conditions: Sky                            0\n",
       "Wildlife: Species                          0\n",
       "Pilot warned of birds or wildlife?         0\n",
       "Cost: Total $                              0\n",
       "Feet above ground                          0\n",
       "Number of people injured                   0\n",
       "Is Aircraft Large?                         0\n",
       "dtype: int64"
      ]
     },
     "execution_count": 31,
     "metadata": {},
     "output_type": "execute_result"
    }
   ],
   "source": [
    "#removing missing values from Remarks\n",
    "df = df.dropna(subset=['Remarks'])\n",
    "df.isnull().sum()"
   ]
  },
  {
   "cell_type": "code",
   "execution_count": 27,
   "id": "cc24c704",
   "metadata": {},
   "outputs": [
    {
     "data": {
      "text/plain": [
       "(180, 26)"
      ]
     },
     "execution_count": 27,
     "metadata": {},
     "output_type": "execute_result"
    }
   ],
   "source": [
    "df.shape"
   ]
  },
  {
   "cell_type": "code",
   "execution_count": 33,
   "id": "6c2fff3a",
   "metadata": {},
   "outputs": [
    {
     "name": "stderr",
     "output_type": "stream",
     "text": [
      "C:\\Users\\bhagi\\AppData\\Local\\Temp\\ipykernel_48452\\21087167.py:2: UserWarning: Could not infer format, so each element will be parsed individually, falling back to `dateutil`. To ensure parsing is consistent and as-expected, please specify a format.\n",
      "  df['FlightDate'] = pd.to_datetime(df['FlightDate'])\n"
     ]
    },
    {
     "data": {
      "text/plain": [
       "Record ID                                           int64\n",
       "Aircraft: Type                                     object\n",
       "Airport: Name                                      object\n",
       "Altitude bin                                       object\n",
       "Aircraft: Make/Model                               object\n",
       "Wildlife: Number struck                            object\n",
       "Wildlife: Number Struck Actual                      int64\n",
       "Effect: Impact to flight                           object\n",
       "FlightDate                                 datetime64[ns]\n",
       "Effect: Indicated Damage                           object\n",
       "Aircraft: Number of engines?                       object\n",
       "Aircraft: Airline/Operator                         object\n",
       "Origin State                                       object\n",
       "When: Phase of flight                              object\n",
       "Conditions: Precipitation                          object\n",
       "Remains of wildlife collected?                       bool\n",
       "Remains of wildlife sent to Smithsonian              bool\n",
       "Remarks                                            object\n",
       "Wildlife: Size                                     object\n",
       "Conditions: Sky                                    object\n",
       "Wildlife: Species                                  object\n",
       "Pilot warned of birds or wildlife?                 object\n",
       "Cost: Total $                                      object\n",
       "Feet above ground                                  object\n",
       "Number of people injured                            int64\n",
       "Is Aircraft Large?                                 object\n",
       "dtype: object"
      ]
     },
     "execution_count": 33,
     "metadata": {},
     "output_type": "execute_result"
    }
   ],
   "source": [
    "# Convert 'FlightDate to datetime\n",
    "df['FlightDate'] = pd.to_datetime(df['FlightDate'])\n",
    "df.dtypes"
   ]
  },
  {
   "cell_type": "code",
   "execution_count": 39,
   "id": "4297af2f",
   "metadata": {},
   "outputs": [
    {
     "data": {
      "text/plain": [
       "Record ID                                           int64\n",
       "Aircraft: Type                                     object\n",
       "Airport: Name                                      object\n",
       "Altitude bin                                       object\n",
       "Aircraft: Make/Model                               object\n",
       "Wildlife: Number struck                            object\n",
       "Wildlife: Number Struck Actual                      int64\n",
       "Effect: Impact to flight                           object\n",
       "FlightDate                                 datetime64[ns]\n",
       "Effect: Indicated Damage                           object\n",
       "Aircraft: Number of engines?                        int32\n",
       "Aircraft: Airline/Operator                         object\n",
       "Origin State                                       object\n",
       "When: Phase of flight                              object\n",
       "Conditions: Precipitation                          object\n",
       "Remains of wildlife collected?                       bool\n",
       "Remains of wildlife sent to Smithsonian              bool\n",
       "Remarks                                            object\n",
       "Wildlife: Size                                     object\n",
       "Conditions: Sky                                    object\n",
       "Wildlife: Species                                  object\n",
       "Pilot warned of birds or wildlife?                 object\n",
       "Cost: Total $                                       int32\n",
       "Feet above ground                                   int32\n",
       "Number of people injured                            int64\n",
       "Is Aircraft Large?                                 object\n",
       "dtype: object"
      ]
     },
     "execution_count": 39,
     "metadata": {},
     "output_type": "execute_result"
    }
   ],
   "source": [
    "# List the columns you want to convert to integer\n",
    "columns_to_convert = ['Aircraft: Number of engines?', 'Cost: Total $', 'Feet above ground']\n",
    "\n",
    "# Remove commas and convert the specified columns to integer\n",
    "for column in columns_to_convert:\n",
    "    # Remove commas and convert to integer\n",
    "    df[column] = df[column].astype(str).str.replace(',', '').astype(int)\n",
    "df.dtypes"
   ]
  },
  {
   "cell_type": "code",
   "execution_count": 41,
   "id": "3fb40a7d",
   "metadata": {},
   "outputs": [],
   "source": [
    "df.to_csv('Cleaned_Bird_Strike.csv', index = False)"
   ]
  }
 ],
 "metadata": {
  "kernelspec": {
   "display_name": "Python 3 (ipykernel)",
   "language": "python",
   "name": "python3"
  },
  "language_info": {
   "codemirror_mode": {
    "name": "ipython",
    "version": 3
   },
   "file_extension": ".py",
   "mimetype": "text/x-python",
   "name": "python",
   "nbconvert_exporter": "python",
   "pygments_lexer": "ipython3",
   "version": "3.11.5"
  }
 },
 "nbformat": 4,
 "nbformat_minor": 5
}
